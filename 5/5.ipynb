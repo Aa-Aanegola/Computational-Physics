{
 "metadata": {
  "language_info": {
   "codemirror_mode": {
    "name": "ipython",
    "version": 3
   },
   "file_extension": ".py",
   "mimetype": "text/x-python",
   "name": "python",
   "nbconvert_exporter": "python",
   "pygments_lexer": "ipython3",
   "version": "3.7.7-final"
  },
  "orig_nbformat": 2,
  "kernelspec": {
   "name": "ml",
   "display_name": "ML"
  }
 },
 "nbformat": 4,
 "nbformat_minor": 2,
 "cells": [
  {
   "cell_type": "code",
   "execution_count": 1,
   "metadata": {},
   "outputs": [],
   "source": [
    "import numpy as np\n",
    "import pandas as pd\n",
    "import math\n",
    "import random\n",
    "import copy\n",
    "\n",
    "kc = 332.1\n",
    "A = 582.0*1e3\n",
    "B = 595.0\n",
    "charge = {\"H\": 0.417, \"O\": -0.834}\n",
    "bound = [23.623, 22.406, 27.1759]\n"
   ]
  },
  {
   "cell_type": "code",
   "execution_count": 2,
   "metadata": {},
   "outputs": [],
   "source": [
    "def potential(config):\n",
    "    pot = 0\n",
    "    for mol1 in config:\n",
    "        for mol2 in config:\n",
    "            if mol1[\"pos\"] == mol2[\"pos\"]:\n",
    "                continue\n",
    "            for at1 in mol1[\"atoms\"]:\n",
    "                for at2 in mol2[\"atoms\"]:\n",
    "                    c1 = at1[\"charge\"]\n",
    "                    c2 = at2[\"charge\"]\n",
    "                    r = 0\n",
    "                    for i in range(3):\n",
    "                        tempr = (at1[\"pos\"][i]-at2[\"pos\"][i])**2\n",
    "                        if at1[\"pos\"][i] < at2[\"pos\"][i]:\n",
    "                            newpos = at1[\"pos\"][i] + bound[i]\n",
    "                            tempr = min((newpos-at2[\"pos\"][i])**2, tempr)\n",
    "                        else:\n",
    "                            newpos = at2[\"pos\"][i] + bound[i]\n",
    "                            tempr = min((newpos-at1[\"pos\"][i])**2, tempr)\n",
    "                        r += tempr\n",
    "                            \n",
    "                    r = r ** 0.5\n",
    "                    if r > 0:\n",
    "                        pot += kc*c1*c2/r**2\n",
    "                    if at1[\"atom\"] == \"O\" and at2[\"atom\"] == \"O\" and r > 0:\n",
    "                        pot += A/r**12\n",
    "                        pot -= B/r**6\n",
    "    pot /= 2\n",
    "    return pot"
   ]
  },
  {
   "cell_type": "code",
   "execution_count": 3,
   "metadata": {},
   "outputs": [
    {
     "output_type": "stream",
     "name": "stdout",
     "text": [
      "['ATOM' 1.0 'OH2' 'TIP3W' 1.0 -7.167000000000001 7.087000000000001 9.48\n 0.0 0.0 'W']\n"
     ]
    }
   ],
   "source": [
    "df = pd.read_csv(\"./starting_config_300k.pdb\", header=None, delimiter=r\"\\s+\").values\n",
    "print(df[0])"
   ]
  },
  {
   "cell_type": "code",
   "execution_count": 4,
   "metadata": {
    "tags": []
   },
   "outputs": [],
   "source": [
    "config = []\n",
    "for i in range(0, len(df)-1, 3):\n",
    "    o = {\n",
    "        \"atom\": \"O\",\n",
    "        \"charge\": charge[\"O\"],\n",
    "        \"pos\": list(df[i][5:8])\n",
    "    }\n",
    "    h1 = {\n",
    "        \"atom\": \"H\",\n",
    "        \"charge\": charge[\"H\"],\n",
    "        \"pos\": list(df[i+1][5:8])\n",
    "    }\n",
    "    h2 = {\n",
    "        \"atom\": \"H\",\n",
    "        \"charge\": charge[\"H\"],\n",
    "        \"pos\": list(df[i+2][5:8])\n",
    "    }\n",
    "    config.append({\"atoms\": [o, h1, h2], \"pos\": (i//3)+1})"
   ]
  },
  {
   "cell_type": "code",
   "execution_count": 5,
   "metadata": {},
   "outputs": [
    {
     "output_type": "stream",
     "name": "stdout",
     "text": [
      "Original configuration energy:  -5071.964855601935\n"
     ]
    }
   ],
   "source": [
    "energy = potential(config)\n",
    "print(\"Original configuration energy: \", energy)"
   ]
  }
 ]
}