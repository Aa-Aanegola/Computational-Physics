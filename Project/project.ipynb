{
 "cells": [
  {
   "cell_type": "code",
   "execution_count": 1,
   "metadata": {},
   "outputs": [],
   "source": [
    "import random\n",
    "import math\n",
    "import copy\n",
    "import numpy as np"
   ]
  },
  {
   "cell_type": "code",
   "execution_count": 2,
   "metadata": {},
   "outputs": [],
   "source": [
    "MIN_DIST = 3.4\n",
    "\n",
    "def dist(p1, p2):\n",
    "    l = []\n",
    "    for d1, d2 in zip(p1, p2):\n",
    "        dd = d2-d1\n",
    "        if dd > 9.0:\n",
    "            dd -= 18.0\n",
    "        if dd <= -9.0:\n",
    "            dd += 18.0\n",
    "        l.append(dd)\n",
    "\n",
    "    s = 0\n",
    "    for i in l:\n",
    "        s += i**2\n",
    "    s = math.sqrt(s)\n",
    "    \n",
    "    if s < MIN_DIST:\n",
    "        return False\n",
    "    return True\n",
    "\n",
    "def getDist(p1, p2):\n",
    "    l = []\n",
    "    for d1, d2 in zip(p1, p2):\n",
    "        dd = d2-d1\n",
    "        if dd > 9.0:\n",
    "            dd -= 18.0\n",
    "        if dd <= -9.0:\n",
    "            dd += 18.0\n",
    "        l.append(dd)\n",
    "\n",
    "    s = 0\n",
    "    for i in l:\n",
    "        s += i**2\n",
    "    s = math.sqrt(s)\n",
    "    return s\n",
    "\n",
    "def GenerateInitial(N, L):\n",
    "    current = 0\n",
    "    points = []\n",
    "\n",
    "    while current != N:\n",
    "        x = random.uniform(0, L)\n",
    "        y = random.uniform(0, L)\n",
    "        z = random.uniform(0, L)\n",
    "\n",
    "        possible = True\n",
    "        for i in points:\n",
    "            possible = dist(i, (x, y, z))\n",
    "            if not possible:\n",
    "                break\n",
    "        if possible:\n",
    "            points.append((x, y, z))\n",
    "            current += 1\n",
    "            print(f\"{current}\")\n",
    "\n",
    "    content = \"%d\\n\\n\" % (N)\n",
    "    for i in points:\n",
    "        content += \"C\\t%f\\t%f\\t%f\\n\" % i\n",
    "\n",
    "    for i in range(len(points)):\n",
    "        for j in range(len(points)):\n",
    "            if i != j and not dist(points[i], points[j]):\n",
    "                print(getDist(points[i], points[j]), points[i], points[j])\n",
    "                print(\"Invalid\")\n",
    "\n",
    "\n",
    "    f = open(\"initial.xyz\", \"w\")\n",
    "    f.write(content)\n",
    "    f.close()\n",
    "    return points\n",
    "\n",
    "def readConfig(f=\"initial.xyz\"):\n",
    "    f = open(f, \"r\")\n",
    "    lines = f.readlines()\n",
    "    points = []\n",
    "    for line in lines:\n",
    "        line = line[:-1]\n",
    "        line = line.split('\\t')\n",
    "        if len(line) == 4:\n",
    "            points.append((float(line[1]), float(line[2]), float(line[3])))\n",
    "    return points"
   ]
  },
  {
   "cell_type": "code",
   "execution_count": 3,
   "metadata": {
    "tags": []
   },
   "outputs": [],
   "source": [
    "config = readConfig()"
   ]
  },
  {
   "cell_type": "code",
   "execution_count": 4,
   "metadata": {},
   "outputs": [],
   "source": [
    "def checkConfig(points):\n",
    "    for p1 in points:\n",
    "        for p2 in points:\n",
    "            if p1 == p2:\n",
    "                continue\n",
    "            if getDist(p1, p2) < MIN_DIST:\n",
    "                return False\n",
    "    return True\n",
    "\n",
    "def calculatePotential(points):\n",
    "    epsilon = 0.238\n",
    "    sigma = 3.4\n",
    "    energy = 0\n",
    "    for p1 in points:\n",
    "        for p2 in points:\n",
    "            if p1 == p2:\n",
    "                continue\n",
    "            r = getDist(p1, p2)\n",
    "            energy += 4*epsilon * ((sigma/r)**12 - (sigma/r)**6)\n",
    "    return energy/2"
   ]
  },
  {
   "cell_type": "code",
   "execution_count": 5,
   "metadata": {},
   "outputs": [
    {
     "name": "stdout",
     "output_type": "stream",
     "text": [
      "Potential energy of the initial configuration: -124.65301605762043\n"
     ]
    }
   ],
   "source": [
    "curEnergy = calculatePotential(config)\n",
    "print(f\"Potential energy of the initial configuration: {curEnergy}\")"
   ]
  },
  {
   "cell_type": "code",
   "execution_count": 6,
   "metadata": {},
   "outputs": [],
   "source": [
    "def neighbor(points):\n",
    "    newPoints = []\n",
    "    for point in points:\n",
    "        x, y, z = point\n",
    "        x += random.uniform(-0.01, 0.01)\n",
    "        y += random.uniform(-0.01, 0.01)\n",
    "        z += random.uniform(-0.01, 0.01)\n",
    "        newPoints.append((x, y, z))\n",
    "    return newPoints\n"
   ]
  },
  {
   "cell_type": "code",
   "execution_count": 7,
   "metadata": {},
   "outputs": [
    {
     "name": "stderr",
     "output_type": "stream",
     "text": [
      "100%|██████████| 10000/10000 [06:54<00:00, 24.10it/s]"
     ]
    },
    {
     "name": "stdout",
     "output_type": "stream",
     "text": [
      "Minimized energy: -148.533255072374\n"
     ]
    },
    {
     "name": "stderr",
     "output_type": "stream",
     "text": [
      "\n"
     ]
    }
   ],
   "source": [
    "from tqdm import tqdm\n",
    "for i in tqdm(range(0, 10000)):\n",
    "    newConfig = neighbor(config)\n",
    "    eNew = calculatePotential(newConfig)\n",
    "    e = calculatePotential(config)\n",
    "    if eNew < e and checkConfig(newConfig):\n",
    "        config = newConfig\n",
    "\n",
    "print(f\"Minimized energy: {calculatePotential(config)}\")"
   ]
  },
  {
   "cell_type": "code",
   "execution_count": 8,
   "metadata": {},
   "outputs": [],
   "source": [
    "content = \"%d\\n\\n\" % (108)\n",
    "for i in config:\n",
    "    content += \"C\\t%f\\t%f\\t%f\\n\" % i\n",
    "f = open(\"minConfig.xyz\", \"w\")\n",
    "f.write(content)\n",
    "f.close()"
   ]
  },
  {
   "cell_type": "code",
   "execution_count": 9,
   "metadata": {},
   "outputs": [],
   "source": [
    "%load_ext cython\n",
    "config = readConfig(\"minConfig.xyz\")\n",
    "nconfig = copy.deepcopy(config)"
   ]
  },
  {
   "cell_type": "code",
   "execution_count": 10,
   "metadata": {
    "tags": []
   },
   "outputs": [],
   "source": [
    "%%cython\n",
    "from tqdm import tqdm\n",
    "cimport numpy as np\n",
    "cimport cython\n",
    "from libc.math cimport sqrt, pow\n",
    "\n",
    "@cython.boundscheck(False)\n",
    "@cython.wraparound(False)\n",
    "@cython.cdivision(True)\n",
    "cpdef cy_getDist(p1, p2):\n",
    "    cdef float x = p1[0] - p2[0]\n",
    "    cdef float y = p1[1] - p2[1]\n",
    "    cdef float z = p1[2] - p2[2]\n",
    "    if x > 9.0:\n",
    "        x -= 18.0\n",
    "    if x <= -9.0:\n",
    "        x += 18.0\n",
    "    if y > 9.0:\n",
    "        y -= 18.0\n",
    "    if y <= -9.0:\n",
    "        y += 18.0 \n",
    "    if z > 9.0:\n",
    "        z -= 18.0\n",
    "    if z < -9.0:\n",
    "        z += 18.0\n",
    "\n",
    "    cdef float s = pow(x,2) + pow(y,2) + pow(z,2)\n",
    "\n",
    "    s = sqrt(s)\n",
    "\n",
    "    return s\n",
    "\n",
    "@cython.boundscheck(False)\n",
    "@cython.wraparound(False)\n",
    "@cython.cdivision(True)\n",
    "cpdef cy_calculatePotential(points):\n",
    "    cdef float epsilon = 0.238\n",
    "    cdef float sigma = 3.4\n",
    "    cdef float energy = 0\n",
    "    cdef float r = 0\n",
    "    cdef int i, j\n",
    "    for i  in range(108):\n",
    "        for j in range(i):\n",
    "            r = cy_getDist(points[i], points[j])\n",
    "            energy += 4*epsilon * (pow((sigma/r), 12) - pow((sigma/r),6))\n",
    "    return energy\n",
    "\n",
    "@cython.boundscheck(False)\n",
    "@cython.wraparound(False)\n",
    "@cython.cdivision(True)\n",
    "cpdef cy_computeHessian(nconfig):\n",
    "    cdef int i, j\n",
    "    hessian = [[0 for i in range(324)] for j in range(324)]\n",
    "    cdef float d = 0.001\n",
    "    cdef float dd = 0\n",
    "    cdef float[3] p, p1, p2\n",
    "    cdef int i3, j3\n",
    "    for i in tqdm(range(324)):\n",
    "        for j in range(i+1):\n",
    "            dd = 0\n",
    "            i3 = i//3\n",
    "            j3 = j//3\n",
    "            if i == j:\n",
    "                p = list(nconfig[i3])\n",
    "                p[i%3] += d\n",
    "                nconfig[i3] = (p[0], p[1], p[2])\n",
    "                dd += cy_calculatePotential(nconfig)\n",
    "                p[i%3] -= 2*d\n",
    "                nconfig[i3] = (p[0], p[1], p[2])\n",
    "                dd += cy_calculatePotential(nconfig)\n",
    "                p[i%3] += d\n",
    "                nconfig[i3] = (p[0], p[1], p[2])\n",
    "                dd -= 2*cy_calculatePotential(nconfig)\n",
    "                dd /= d*d\n",
    "            elif i3 == j3:\n",
    "                p = list(nconfig[i3])\n",
    "                p[i%3] += d\n",
    "                p[j%3] += d\n",
    "                nconfig[i3] = (p[0], p[1], p[2])\n",
    "                dd += cy_calculatePotential(nconfig)\n",
    "                p[j%3] -= 2*d\n",
    "                nconfig[j3] = (p[0], p[1], p[2])\n",
    "                dd -= cy_calculatePotential(nconfig)\n",
    "                p[i%3] -= 2*d\n",
    "                nconfig[i3] = (p[0], p[1], p[2])\n",
    "                dd += cy_calculatePotential(nconfig)\n",
    "                p[j%3] += 2*d\n",
    "                nconfig[j3] = (p[0], p[1], p[2])\n",
    "                dd -= cy_calculatePotential(nconfig)\n",
    "                p[i%3] += d\n",
    "                p[j%3] -= d\n",
    "                nconfig[i3] = (p[0], p[1], p[2])\n",
    "                dd /= 4*d*d\n",
    "            else:\n",
    "                p1 = list(nconfig[i3])\n",
    "                p2 = list(nconfig[j3])\n",
    "                p1[i%3] += d\n",
    "                p2[j%3] += d\n",
    "                nconfig[i3] = (p1[0], p1[1], p1[2])\n",
    "                nconfig[j3] = (p2[0], p2[1], p2[2])\n",
    "                dd += cy_calculatePotential(nconfig)\n",
    "                p2[j%3] -= 2*d\n",
    "                nconfig[j3] = (p2[0], p2[1], p2[2])\n",
    "                dd -= cy_calculatePotential(nconfig)\n",
    "                p1[i%3] -= 2*d\n",
    "                nconfig[i3] = (p1[0], p1[1], p1[2])\n",
    "                dd += cy_calculatePotential(nconfig)\n",
    "                p2[j%3] += 2*d\n",
    "                nconfig[j3] = (p2[0], p2[1], p2[2])\n",
    "                dd -= cy_calculatePotential(nconfig)\n",
    "                p1[i%3] += d\n",
    "                p2[j%3] -= d\n",
    "                nconfig[i3] = (p1[0], p1[1], p1[2])\n",
    "                nconfig[j3] = (p2[0], p2[1], p2[2])\n",
    "                dd /= 4*d*d\n",
    "            hessian[i][j]=dd\n",
    "            hessian[j][i]=dd\n",
    "    return hessian"
   ]
  },
  {
   "cell_type": "code",
   "execution_count": 11,
   "metadata": {
    "tags": []
   },
   "outputs": [
    {
     "name": "stderr",
     "output_type": "stream",
     "text": [
      "100%|██████████| 324/324 [04:54<00:00,  1.10it/s]\n"
     ]
    }
   ],
   "source": [
    "import json\n",
    "hessian = cy_computeHessian(config)"
   ]
  },
  {
   "cell_type": "code",
   "execution_count": 12,
   "metadata": {},
   "outputs": [],
   "source": [
    "f = open(\"hessian.json\", \"w\")\n",
    "json.dump(hessian, f, indent=4)\n",
    "f.close()"
   ]
  },
  {
   "cell_type": "code",
   "execution_count": 13,
   "metadata": {},
   "outputs": [],
   "source": [
    "f = open(\"hessian.json\", \"r\")\n",
    "hessian = json.load(f)\n",
    "f.close()"
   ]
  },
  {
   "cell_type": "code",
   "execution_count": 14,
   "metadata": {},
   "outputs": [],
   "source": [
    "H = np.array(hessian)\n",
    "eigval, eigvec = np.linalg.eig(H)\n",
    "dump = {\"hessian\": hessian, \"eigenvalues\": eigval.tolist(), \"eigenvectors\": eigvec.tolist()}\n",
    "f = open(\"hessian_eigen.json\", \"w\")\n",
    "json.dump(dump, f, indent=4)\n",
    "f.close()"
   ]
  },
  {
   "cell_type": "code",
   "execution_count": 16,
   "metadata": {},
   "outputs": [
    {
     "data": {
      "image/png": "[encoded data removed]",
      "text/plain": [
       "<Figure size 432x288 with 1 Axes>"
      ]
     },
     "metadata": {
      "needs_background": "light"
     },
     "output_type": "display_data"
    }
   ],
   "source": [
    "import matplotlib.pyplot as plt\n",
    "vibList = abs(eigval)**0.5\n",
    "plt.hist(x=vibList, bins='auto', color='#ADD8E6', alpha=0.8, rwidth=0.9)\n",
    "plt.grid(axis=\"y\", alpha = 0.8)\n",
    "plt.title(\"Vibrational frequency histogram\")\n",
    "plt.xlabel(\"Vibrational frequencies (constant)\")\n",
    "plt.ylabel(\"Frequency\")\n",
    "plt.show()"
   ]
  }
 ],
 "metadata": {
  "kernelspec": {
   "display_name": "ML",
   "language": "python",
   "name": "ml"
  },
  "language_info": {
   "codemirror_mode": {
    "name": "ipython",
    "version": 3
   },
   "file_extension": ".py",
   "mimetype": "text/x-python",
   "name": "python",
   "nbconvert_exporter": "python",
   "pygments_lexer": "ipython3",
   "version": "3.7.7"
  }
 },
 "nbformat": 4,
 "nbformat_minor": 4
}
